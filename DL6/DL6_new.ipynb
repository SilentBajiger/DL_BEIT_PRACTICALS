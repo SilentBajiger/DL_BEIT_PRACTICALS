{
 "cells": [
  {
   "cell_type": "code",
   "execution_count": 1,
   "id": "60cd1538-fe5f-4e24-9575-12e65314ecf6",
   "metadata": {},
   "outputs": [],
   "source": [
    "import tensorflow as tf\n",
    "from tensorflow import keras\n",
    "from keras.models import Sequential\n",
    "from keras.layers import Dense,Flatten\n",
    "from tensorflow.keras.preprocessing import image\n",
    "from keras.applications import VGG16\n",
    "import numpy as np"
   ]
  },
  {
   "cell_type": "code",
   "execution_count": 2,
   "id": "e1ba88a8-efc4-4afb-b721-574580cef122",
   "metadata": {},
   "outputs": [],
   "source": [
    "base_model = VGG16(weights = \"imagenet\",include_top = False,input_shape = (224,224,3))"
   ]
  },
  {
   "cell_type": "code",
   "execution_count": 3,
   "id": "7379c2a5-6bbb-4210-ad13-8a5c025c2115",
   "metadata": {},
   "outputs": [],
   "source": [
    "for layer in  base_model.layers:\n",
    "    layer.trainable = False"
   ]
  },
  {
   "cell_type": "code",
   "execution_count": 4,
   "id": "a8c078f8-0e3a-46a2-885a-8acfa914c0fc",
   "metadata": {},
   "outputs": [],
   "source": [
    "num_classes = 6\n",
    "model = Sequential([\n",
    "    base_model,\n",
    "    Flatten(),\n",
    "    Dense(512,activation=\"relu\"),\n",
    "    Dense(num_classes,activation=\"softmax\")\n",
    "])"
   ]
  },
  {
   "cell_type": "code",
   "execution_count": 5,
   "id": "8dc098ef-ea2f-4b17-ba44-003a029c83c0",
   "metadata": {},
   "outputs": [],
   "source": [
    "model.compile(optimizer = \"adam\",loss=\"categorical_crossentropy\",metrics=[\"accuracy\"])"
   ]
  },
  {
   "cell_type": "code",
   "execution_count": 6,
   "id": "08b4da18-5fba-4b69-b0cf-982ea2a85f25",
   "metadata": {},
   "outputs": [],
   "source": [
    "trainer = image.ImageDataGenerator(\n",
    "    rescale = 1./255,\n",
    "    validation_split = 0.2\n",
    ")"
   ]
  },
  {
   "cell_type": "code",
   "execution_count": 8,
   "id": "116f196e-f89a-49be-b18a-c4f320327f6b",
   "metadata": {},
   "outputs": [
    {
     "name": "stdout",
     "output_type": "stream",
     "text": [
      "Found 2941 images belonging to 6 classes.\n"
     ]
    }
   ],
   "source": [
    "traning_data = trainer.flow_from_directory(\n",
    "    'flower_photos',\n",
    "    target_size = (224,224),\n",
    "    batch_size = 32,\n",
    "    class_mode = \"categorical\",\n",
    "    subset = \"training\"\n",
    ")"
   ]
  },
  {
   "cell_type": "code",
   "execution_count": 9,
   "id": "955e3ca0-e9da-4984-8b43-537f95f1d7e0",
   "metadata": {},
   "outputs": [
    {
     "name": "stdout",
     "output_type": "stream",
     "text": [
      "Epoch 1/5\n"
     ]
    },
    {
     "name": "stderr",
     "output_type": "stream",
     "text": [
      "C:\\Users\\ASUS\\AppData\\Roaming\\Python\\Python312\\site-packages\\keras\\src\\trainers\\data_adapters\\py_dataset_adapter.py:121: UserWarning: Your `PyDataset` class should call `super().__init__(**kwargs)` in its constructor. `**kwargs` can include `workers`, `use_multiprocessing`, `max_queue_size`. Do not pass these arguments to `fit()`, as they will be ignored.\n",
      "  self._warn_if_super_not_called()\n"
     ]
    },
    {
     "name": "stdout",
     "output_type": "stream",
     "text": [
      "\u001b[1m92/92\u001b[0m \u001b[32m━━━━━━━━━━━━━━━━━━━━\u001b[0m\u001b[37m\u001b[0m \u001b[1m166s\u001b[0m 2s/step - accuracy: 0.5393 - loss: 3.0423\n",
      "Epoch 2/5\n",
      "\u001b[1m92/92\u001b[0m \u001b[32m━━━━━━━━━━━━━━━━━━━━\u001b[0m\u001b[37m\u001b[0m \u001b[1m171s\u001b[0m 2s/step - accuracy: 0.9023 - loss: 0.2693\n",
      "Epoch 3/5\n",
      "\u001b[1m92/92\u001b[0m \u001b[32m━━━━━━━━━━━━━━━━━━━━\u001b[0m\u001b[37m\u001b[0m \u001b[1m166s\u001b[0m 2s/step - accuracy: 0.9530 - loss: 0.1361\n",
      "Epoch 4/5\n",
      "\u001b[1m92/92\u001b[0m \u001b[32m━━━━━━━━━━━━━━━━━━━━\u001b[0m\u001b[37m\u001b[0m \u001b[1m174s\u001b[0m 2s/step - accuracy: 0.9874 - loss: 0.0459\n",
      "Epoch 5/5\n",
      "\u001b[1m92/92\u001b[0m \u001b[32m━━━━━━━━━━━━━━━━━━━━\u001b[0m\u001b[37m\u001b[0m \u001b[1m181s\u001b[0m 2s/step - accuracy: 0.9966 - loss: 0.0200\n"
     ]
    },
    {
     "data": {
      "text/plain": [
       "<keras.src.callbacks.history.History at 0x19b1ea5b080>"
      ]
     },
     "execution_count": 9,
     "metadata": {},
     "output_type": "execute_result"
    }
   ],
   "source": [
    "model.fit(traning_data,epochs = 5)"
   ]
  },
  {
   "cell_type": "code",
   "execution_count": 11,
   "id": "32fc968e-acc8-47d2-8527-26d32de4e2e0",
   "metadata": {},
   "outputs": [],
   "source": [
    "names = traning_data.class_indices"
   ]
  },
  {
   "cell_type": "code",
   "execution_count": 12,
   "id": "585f6527-8177-4222-9c5d-4421e696acf1",
   "metadata": {},
   "outputs": [],
   "source": [
    "img_path = \"flower_photos/tulips/7166550328_de0d73cfa9.jpg\""
   ]
  },
  {
   "cell_type": "code",
   "execution_count": 13,
   "id": "4d228f80-47fa-41c1-943a-b36b5e2538a5",
   "metadata": {},
   "outputs": [],
   "source": [
    "img = image.load_img(img_path,target_size=(224,224))"
   ]
  },
  {
   "cell_type": "code",
   "execution_count": 18,
   "id": "04916b0b-45cc-4e87-933a-097bdb459abb",
   "metadata": {},
   "outputs": [],
   "source": [
    "img_array = image.img_to_array(img)\n",
    "img_array = np.expand_dims(img_array,axis=0)\n",
    "img_array /= 255\n"
   ]
  },
  {
   "cell_type": "code",
   "execution_count": 19,
   "id": "e04ebe0c-243b-45b4-8ee5-6cbf27e21446",
   "metadata": {},
   "outputs": [
    {
     "data": {
      "text/plain": [
       "(1, 224, 224, 3)"
      ]
     },
     "execution_count": 19,
     "metadata": {},
     "output_type": "execute_result"
    }
   ],
   "source": [
    "img_array.shape"
   ]
  },
  {
   "cell_type": "code",
   "execution_count": 20,
   "id": "707dbad1-a188-4832-b2a2-9d848fb9311d",
   "metadata": {},
   "outputs": [
    {
     "name": "stdout",
     "output_type": "stream",
     "text": [
      "\u001b[1m1/1\u001b[0m \u001b[32m━━━━━━━━━━━━━━━━━━━━\u001b[0m\u001b[37m\u001b[0m \u001b[1m1s\u001b[0m 570ms/step\n"
     ]
    }
   ],
   "source": [
    "y_pred = model.predict(img_array)"
   ]
  },
  {
   "cell_type": "code",
   "execution_count": 22,
   "id": "59502763-4498-4a97-87c8-b144a9161dad",
   "metadata": {},
   "outputs": [
    {
     "name": "stdout",
     "output_type": "stream",
     "text": [
      "tulips\n"
     ]
    }
   ],
   "source": [
    "index = np.argmax(y_pred)\n",
    "\n",
    "for key , value in names.items():\n",
    "    if(value == index):\n",
    "        print(key)\n",
    "        break"
   ]
  },
  {
   "cell_type": "code",
   "execution_count": 23,
   "id": "c62d11d0-2417-412b-a140-291563f33c04",
   "metadata": {},
   "outputs": [],
   "source": [
    "for layer in base_model.layers[-4:]:\n",
    "    layer.trainable = True"
   ]
  },
  {
   "cell_type": "code",
   "execution_count": 24,
   "id": "abdf3fc9-917f-4c74-ba45-65184d50132c",
   "metadata": {},
   "outputs": [],
   "source": [
    "model.compile(optimizer = tf.keras.optimizers.Adam(learning_rate=1e-5),loss=\"categorical_crossentropy\",metrics=[\"accuracy\"])"
   ]
  },
  {
   "cell_type": "code",
   "execution_count": 29,
   "id": "c394042a-e9da-4ade-8cf4-c932d2c69093",
   "metadata": {},
   "outputs": [
    {
     "name": "stdout",
     "output_type": "stream",
     "text": [
      "Epoch 1/5\n",
      "\u001b[1m92/92\u001b[0m \u001b[32m━━━━━━━━━━━━━━━━━━━━\u001b[0m\u001b[37m\u001b[0m \u001b[1m211s\u001b[0m 2s/step - accuracy: 1.0000 - loss: 0.0015\n",
      "Epoch 3/5\n",
      "\u001b[1m92/92\u001b[0m \u001b[32m━━━━━━━━━━━━━━━━━━━━\u001b[0m\u001b[37m\u001b[0m \u001b[1m205s\u001b[0m 2s/step - accuracy: 1.0000 - loss: 6.7210e-04\n",
      "Epoch 4/5\n",
      "\u001b[1m92/92\u001b[0m \u001b[32m━━━━━━━━━━━━━━━━━━━━\u001b[0m\u001b[37m\u001b[0m \u001b[1m205s\u001b[0m 2s/step - accuracy: 1.0000 - loss: 3.9877e-04\n",
      "Epoch 5/5\n",
      "\u001b[1m92/92\u001b[0m \u001b[32m━━━━━━━━━━━━━━━━━━━━\u001b[0m\u001b[37m\u001b[0m \u001b[1m208s\u001b[0m 2s/step - accuracy: 1.0000 - loss: 3.0442e-04\n"
     ]
    },
    {
     "data": {
      "text/plain": [
       "<keras.src.callbacks.history.History at 0x19b36372ea0>"
      ]
     },
     "execution_count": 29,
     "metadata": {},
     "output_type": "execute_result"
    }
   ],
   "source": [
    "model.fit(traning_data,epochs=5)"
   ]
  },
  {
   "cell_type": "code",
   "execution_count": 36,
   "id": "4242165c-78b6-46e3-9127-e0fa3d63bdbc",
   "metadata": {},
   "outputs": [
    {
     "name": "stdout",
     "output_type": "stream",
     "text": [
      "\u001b[1m1/1\u001b[0m \u001b[32m━━━━━━━━━━━━━━━━━━━━\u001b[0m\u001b[37m\u001b[0m \u001b[1m0s\u001b[0m 360ms/step\n"
     ]
    }
   ],
   "source": [
    "img_path = \"flower_photos/roses/5990626258_697f007308_n.jpg\"\n",
    "img = image.load_img(img_path,target_size=(224,224))\n",
    "img_array = image.img_to_array(img)\n",
    "img_array = np.expand_dims(img_array,axis=0)\n",
    "img_array /= 255\n",
    "\n",
    "y_pred = model.predict(img_array)\n"
   ]
  },
  {
   "cell_type": "code",
   "execution_count": 37,
   "id": "d4d00a64-cabe-4c4c-bbd2-e43f146cd26a",
   "metadata": {},
   "outputs": [],
   "source": [
    "index = np.argmax(y_pred,axis=1)\n"
   ]
  },
  {
   "cell_type": "code",
   "execution_count": 38,
   "id": "5eca959c-6ffd-4c75-94d2-03225bf557b1",
   "metadata": {},
   "outputs": [
    {
     "name": "stdout",
     "output_type": "stream",
     "text": [
      "roses\n"
     ]
    }
   ],
   "source": [
    "\n",
    "for key,value in names.items():\n",
    "    if(value == index):\n",
    "        print(key)\n",
    "        break"
   ]
  },
  {
   "cell_type": "code",
   "execution_count": null,
   "id": "22d4ac4f-ab4c-42d8-ba70-d99a8db14934",
   "metadata": {},
   "outputs": [],
   "source": []
  }
 ],
 "metadata": {
  "kernelspec": {
   "display_name": "Python 3 (ipykernel)",
   "language": "python",
   "name": "python3"
  },
  "language_info": {
   "codemirror_mode": {
    "name": "ipython",
    "version": 3
   },
   "file_extension": ".py",
   "mimetype": "text/x-python",
   "name": "python",
   "nbconvert_exporter": "python",
   "pygments_lexer": "ipython3",
   "version": "3.12.7"
  }
 },
 "nbformat": 4,
 "nbformat_minor": 5
}
